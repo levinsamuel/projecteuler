{
 "cells": [
  {
   "cell_type": "markdown",
   "metadata": {},
   "source": [
    "# Workspace for Project Euler problems\n",
    "\n",
    "## Problem 5\n",
    "\n",
    "2520 is the smallest number that can be divided by each of the numbers from 1 to 10 without any remainder.\n",
    "\n",
    "What is the smallest positive number that is evenly divisible by all of the numbers from 1 to 20?"
   ]
  },
  {
   "cell_type": "code",
   "execution_count": 46,
   "metadata": {},
   "outputs": [],
   "source": [
    "import math, logging, sys\n",
    "logging.basicConfig(stream=sys.stderr, level=logging.INFO)\n",
    "\n",
    "log = logging.getLogger(\"main\")\n",
    "log.setLevel(logging.INFO)"
   ]
  },
  {
   "cell_type": "code",
   "execution_count": 17,
   "metadata": {},
   "outputs": [
    {
     "data": {
      "text/plain": [
       "{2: 0,\n",
       " 3: 0,\n",
       " 5: 0,\n",
       " 7: 0,\n",
       " 11: 0,\n",
       " 13: 0,\n",
       " 17: 0,\n",
       " 19: 0,\n",
       " 23: 0,\n",
       " 29: 0,\n",
       " 31: 0,\n",
       " 37: 0,\n",
       " 41: 0,\n",
       " 43: 0,\n",
       " 47: 0,\n",
       " 53: 0,\n",
       " 59: 0,\n",
       " 61: 0,\n",
       " 67: 0,\n",
       " 71: 0,\n",
       " 73: 0,\n",
       " 79: 0,\n",
       " 83: 0,\n",
       " 89: 0,\n",
       " 97: 0}"
      ]
     },
     "execution_count": 17,
     "metadata": {},
     "output_type": "execute_result"
    }
   ],
   "source": [
    "def findSomePrimes(limit):\n",
    "    \"Method that returns a map where each key is a prime number. The \\\n",
    "    value of the map will be initialized to 0. This is for counting \\\n",
    "    prime factors of some other number.\"\n",
    "    someprimes={2:0}\n",
    "    for i in range(3, limit+1):\n",
    "        prime=True\n",
    "        for p in someprimes:\n",
    "            if i % p == 0:\n",
    "                prime=False\n",
    "                break\n",
    "        if prime:\n",
    "            someprimes[i]=0\n",
    "    return someprimes\n",
    "\n",
    "findSomePrimes(100)"
   ]
  },
  {
   "cell_type": "code",
   "execution_count": 40,
   "metadata": {},
   "outputs": [
    {
     "name": "stderr",
     "output_type": "stream",
     "text": [
      "DEBUG:main:factor 69: {3: 1, 23: 1}\n",
      "DEBUG:main:factor 4: {2: 2}\n"
     ]
    }
   ],
   "source": [
    "def factor(num):\n",
    "    \n",
    "    \"Return the prime factorization of a number in the form of a map \\\n",
    "    between the prime key and the number of those primes in the prime \\\n",
    "    factorization\"\n",
    "    root=math.ceil(math.sqrt(num))\n",
    "    factors={}\n",
    "    numagain=num\n",
    "    for i in range(2, root+1):\n",
    "        n=numagain/i\n",
    "        instances=0\n",
    "        while n.is_integer():\n",
    "            numagain=n\n",
    "            instances += 1\n",
    "            n=numagain/i\n",
    "        if instances > 0:\n",
    "            factors[i]=instances\n",
    "    \n",
    "    if numagain > 1:\n",
    "        factors[int(numagain)]=1\n",
    "    return factors;\n",
    "\n",
    "log.debug(\"factor 69: {}\".format(factor(69)))\n",
    "log.debug(\"factor 4: {}\".format(factor(4)))"
   ]
  },
  {
   "cell_type": "code",
   "execution_count": 44,
   "metadata": {},
   "outputs": [
    {
     "name": "stderr",
     "output_type": "stream",
     "text": [
      "DEBUG:main:primes: {2: 0, 3: 0, 5: 0, 7: 0}\n",
      "DEBUG:main:factors of 2: {2: 1}\n",
      "DEBUG:main:factors of 3: {3: 1}\n",
      "DEBUG:main:factors of 4: {2: 2}\n",
      "DEBUG:main:factors of 5: {5: 1}\n",
      "DEBUG:main:factors of 6: {2: 1, 3: 1}\n",
      "DEBUG:main:factors of 7: {7: 1}\n",
      "DEBUG:main:factors of 8: {2: 3}\n",
      "DEBUG:main:factors of 9: {3: 2}\n",
      "DEBUG:main:factors of 10: {2: 1, 5: 1}\n"
     ]
    },
    {
     "data": {
      "text/plain": [
       "{2: 3, 3: 2, 5: 1, 7: 1}"
      ]
     },
     "execution_count": 44,
     "metadata": {},
     "output_type": "execute_result"
    }
   ],
   "source": [
    "def smallestCommonMultiple(num):\n",
    "    \"Find the smallest number that is divisible by every number from \\\n",
    "    one to num. It does this by finding all the prime factorizations \\\n",
    "    of each number and making sure the final map has exactly as many \\\n",
    "    of each prime factor as the greatest number of any number up to num.\"\n",
    "    primes = findSomePrimes(num)\n",
    "    log.debug(\"primes: {}\".format(primes))\n",
    "    \n",
    "    for i in range(2, num+1):\n",
    "        fs=factor(i)\n",
    "        log.debug(\"factors of {}: {}\".format(i, fs))\n",
    "        for pm in fs:\n",
    "            primes[pm] = max(primes[pm], fs[pm])\n",
    "    \n",
    "    return primes\n",
    "    \n",
    "smallestCommonMultiple(10)"
   ]
  },
  {
   "cell_type": "code",
   "execution_count": 45,
   "metadata": {},
   "outputs": [
    {
     "name": "stderr",
     "output_type": "stream",
     "text": [
      "DEBUG:main:primes: {2: 0, 3: 0, 5: 0, 7: 0, 11: 0, 13: 0, 17: 0, 19: 0}\n",
      "DEBUG:main:factors of 2: {2: 1}\n",
      "DEBUG:main:factors of 3: {3: 1}\n",
      "DEBUG:main:factors of 4: {2: 2}\n",
      "DEBUG:main:factors of 5: {5: 1}\n",
      "DEBUG:main:factors of 6: {2: 1, 3: 1}\n",
      "DEBUG:main:factors of 7: {7: 1}\n",
      "DEBUG:main:factors of 8: {2: 3}\n",
      "DEBUG:main:factors of 9: {3: 2}\n",
      "DEBUG:main:factors of 10: {2: 1, 5: 1}\n",
      "DEBUG:main:factors of 11: {11: 1}\n",
      "DEBUG:main:factors of 12: {2: 2, 3: 1}\n",
      "DEBUG:main:factors of 13: {13: 1}\n",
      "DEBUG:main:factors of 14: {2: 1, 7: 1}\n",
      "DEBUG:main:factors of 15: {3: 1, 5: 1}\n",
      "DEBUG:main:factors of 16: {2: 4}\n",
      "DEBUG:main:factors of 17: {17: 1}\n",
      "DEBUG:main:factors of 18: {2: 1, 3: 2}\n",
      "DEBUG:main:factors of 19: {19: 1}\n",
      "DEBUG:main:factors of 20: {2: 2, 5: 1}\n"
     ]
    },
    {
     "name": "stdout",
     "output_type": "stream",
     "text": [
      "smallest number divisible by 1-20: 232792560\n"
     ]
    }
   ],
   "source": [
    "primef=smallestCommonMultiple(20)\n",
    "num=1\n",
    "for k in primef:\n",
    "    num *= (k**primef[k])\n",
    "    \n",
    "print (\"smallest number divisible by 1-20: {}\".format(num))"
   ]
  }
 ],
 "metadata": {
  "kernelspec": {
   "display_name": "Python 3",
   "language": "python",
   "name": "python3"
  },
  "language_info": {
   "codemirror_mode": {
    "name": "ipython",
    "version": 3
   },
   "file_extension": ".py",
   "mimetype": "text/x-python",
   "name": "python",
   "nbconvert_exporter": "python",
   "pygments_lexer": "ipython3",
   "version": "3.6.5"
  }
 },
 "nbformat": 4,
 "nbformat_minor": 2
}
