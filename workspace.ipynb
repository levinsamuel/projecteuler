{
 "cells": [
  {
   "cell_type": "markdown",
   "metadata": {},
   "source": [
    "# Workspace for Project Euler problems\n",
    "\n",
    "## Problem 9\n",
    "\n",
    "A Pythagorean triplet is a set of three natural numbers, $a < b < c$, for which,\n",
    "\n",
    "$$a^2 + b^2 = c^2$$\n",
    "\n",
    "For example, $3^2 + 4^2 = 9 + 16 = 25 = 5^2$.\n",
    "\n",
    "There exists exactly one Pythagorean triplet for which $a + b + c = 1000$.\n",
    "Find the product $abc$."
   ]
  },
  {
   "cell_type": "code",
   "execution_count": 20,
   "metadata": {},
   "outputs": [],
   "source": [
    "import primetools as pt\n",
    "import numbers, math\n",
    "import tools.misc as misc"
   ]
  },
  {
   "cell_type": "markdown",
   "metadata": {},
   "source": [
    "### Some random substitution just looking for stuff\n",
    "\n",
    "1.1: $a + b + c = 1000$\n",
    "\n",
    "1.2: $c = 1000 - a - b$\n",
    "\n",
    "2: $a^2 + b^2 = c^2$\n",
    "\n",
    "3, 1.1 squared:\n",
    "$a^2 + 2ab + b^2 + 2bc + c^2 + 2ac = 1000000$\n",
    "\n",
    "4, Substitute 2: $2a^2 + 2ab + 2b^2 + c(2b + 2a) = 1000000$\n",
    "\n",
    "5, Substitute 1.2: $2a^2 + 2ab + 2b^2 + (1000 - a - b)(2b + 2a) = 1000000$\n",
    "\n",
    "6: $(1000 - a - b)(2b + 2a) = 2000b + 2000a - 4ab - 2a^2 - 2b^2$\n",
    "\n",
    "7: $-4ab - 2a^2 - 2b^2 = -2(2ab + a^2 + b^2) = -2(a + b)^2$\n",
    "\n",
    "8, Substitute 6: $-2ab + 2000a + 2000b = 1000000$"
   ]
  },
  {
   "cell_type": "markdown",
   "metadata": {},
   "source": [
    "### Ok what did we learn\n",
    "\n",
    "From [8], we know that $-2ab$ must be a multiple of 1000, since the other terms in the equation are, so $ab$ must be a multiple of 500 between them."
   ]
  }
 ],
 "metadata": {
  "kernelspec": {
   "display_name": "Python 3",
   "language": "python",
   "name": "python3"
  },
  "language_info": {
   "codemirror_mode": {
    "name": "ipython",
    "version": 3
   },
   "file_extension": ".py",
   "mimetype": "text/x-python",
   "name": "python",
   "nbconvert_exporter": "python",
   "pygments_lexer": "ipython3",
   "version": "3.6.5"
  }
 },
 "nbformat": 4,
 "nbformat_minor": 2
}
