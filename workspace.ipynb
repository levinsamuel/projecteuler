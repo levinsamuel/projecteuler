{
 "cells": [
  {
   "cell_type": "markdown",
   "metadata": {},
   "source": [
    "## Problem 1\n",
    "\n",
    "If we list all the natural numbers below 10 that are multiples of 3 or 5, we get 3, 5, 6 and 9.\n",
    "The sum of these multiples is 23.\n",
    "\n",
    "Find the sum of all the multiples of 3 or 5 below 1000.\n",
    "\n",
    "### Approach\n",
    "\n",
    "in mod15, the multiples of 3 and 5 will always be 3, 5, 6, 9, 10, 12, 15. the sum of these numbers is 60."
   ]
  },
  {
   "cell_type": "markdown",
   "metadata": {},
   "source": [
    "And there are 7 of these elements. So between every multiple of 15 (meaning the ranges [1-15], [16-30], etc), the sum will be $60 + (7*m)$ where $m$ is the multiple of 15 beginning the range.\n",
    "\n",
    "Then, for $n$ multiples of 15, we have\n",
    "\n",
    "$$\\sum_{i=0}^{n-1} (60 + 105i)$$\n",
    "\n",
    "then, for the remainder, you can just iterate through and add the leftovers, so if you're looking for less than 1000, you'd divide, find the highest multiple is 990, and then manually check for multiples between 991 and 999."
   ]
  },
  {
   "cell_type": "code",
   "execution_count": 1,
   "metadata": {},
   "outputs": [],
   "source": [
    "import numpy as np;\n",
    "import math;"
   ]
  },
  {
   "cell_type": "code",
   "execution_count": 2,
   "metadata": {},
   "outputs": [
    {
     "name": "stdout",
     "output_type": "stream",
     "text": [
      "60\n"
     ]
    }
   ],
   "source": [
    "print(3 + 5 + 6 + 9 + 10 + 12 + 15)"
   ]
  },
  {
   "cell_type": "code",
   "execution_count": 3,
   "metadata": {},
   "outputs": [
    {
     "name": "stdout",
     "output_type": "stream",
     "text": [
      "limit is a <class 'int'> type\n",
      "there are 66 multiples of 15, the highest being 990\n"
     ]
    }
   ],
   "source": [
    "limit=1000\n",
    "print (\"limit is a %s type\" % type(limit))\n",
    "multiples=limit//15;\n",
    "lastmult=(multiples*15);\n",
    "\n",
    "print(\"there are %d multiples of 15, the highest being %d\"\n",
    "      % (multiples, lastmult))"
   ]
  },
  {
   "cell_type": "code",
   "execution_count": 17,
   "metadata": {},
   "outputs": [
    {
     "name": "stdout",
     "output_type": "stream",
     "text": [
      "[165, 270, 375, 480, 585, 690, 795, 900, 1005]\n",
      "<class 'list'>\n"
     ]
    }
   ],
   "source": [
    "x_mod = [60 + 105*i for i in range(1,10)];\n",
    "print(x_mod);\n",
    "print(type(x_mod));\n",
    "\n",
    "# Turns out range is inclusive/exclusive, meaning range(1,10) is\n",
    "# the interval [1,10). I didn't know this. So there will be end-start\n",
    "# values in the range"
   ]
  },
  {
   "cell_type": "code",
   "execution_count": 5,
   "metadata": {},
   "outputs": [
    {
     "name": "stdout",
     "output_type": "stream",
     "text": [
      "<class 'function'>\n",
      "480\n"
     ]
    }
   ],
   "source": [
    "intvlsum = lambda i: 60 + 105*i;\n",
    "print (type(intvlsum))\n",
    "print (intvlsum(4))"
   ]
  },
  {
   "cell_type": "code",
   "execution_count": 12,
   "metadata": {},
   "outputs": [
    {
     "name": "stdout",
     "output_type": "stream",
     "text": [
      "Sum: 4320\n"
     ]
    }
   ],
   "source": [
    "print (\"Sum: %d\" % sum( intvlsum(x) for x in range(0,9) ))"
   ]
  },
  {
   "cell_type": "code",
   "execution_count": 19,
   "metadata": {},
   "outputs": [
    {
     "name": "stdout",
     "output_type": "stream",
     "text": [
      "Before leftovers: 229185\n",
      "993 is a remaining multiple\n",
      "995 is a remaining multiple\n",
      "996 is a remaining multiple\n",
      "999 is a remaining multiple\n",
      "233168\n"
     ]
    }
   ],
   "source": [
    "total=sum( intvlsum(x) for x in range(0,multiples) )\n",
    "print (\"Before leftovers: %d\" % total)\n",
    "\n",
    "# last multiple + 1 because the last multiple (990 if limit is 1000)\n",
    "# is counted by the last interval sum, since I am using the intervals\n",
    "# ending in the previous multiple. This probably would be cleaner if I\n",
    "# just had the multiple *start* the interval instead.\n",
    "for n in range(lastmult+1, limit):\n",
    "    if (n % 3 == 0 or n % 5 == 0):\n",
    "        print (\"%d is a remaining multiple\" % n)\n",
    "        total += n;\n",
    "        \n",
    "print (total)"
   ]
  }
 ],
 "metadata": {
  "kernelspec": {
   "display_name": "Python 3",
   "language": "python",
   "name": "python3"
  },
  "language_info": {
   "codemirror_mode": {
    "name": "ipython",
    "version": 3
   },
   "file_extension": ".py",
   "mimetype": "text/x-python",
   "name": "python",
   "nbconvert_exporter": "python",
   "pygments_lexer": "ipython3",
   "version": "3.6.5"
  }
 },
 "nbformat": 4,
 "nbformat_minor": 2
}
