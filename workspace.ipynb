{
 "cells": [
  {
   "cell_type": "markdown",
   "metadata": {},
   "source": [
    "# Workspace for Project Euler problems\n",
    "\n",
    "## Problem 10\n",
    "\n",
    "The sum of the primes below 10 is 2 + 3 + 5 + 7 = 17.\n",
    "\n",
    "Find the sum of all the primes below two million."
   ]
  },
  {
   "cell_type": "code",
   "execution_count": 1,
   "metadata": {},
   "outputs": [],
   "source": [
    "import primetools as pt\n",
    "import numbers, math\n",
    "import tools.misc as misc\n",
    "import logging, sys\n",
    "from functools import reduce\n",
    "\n",
    "logging.basicConfig(stream=sys.stderr, level=logging.INFO)\n",
    "\n",
    "log = logging.getLogger(\"main\")\n",
    "\n",
    "# DEBUG, INFO, WARNING, ERROR, CRITICAL\n",
    "log.setLevel(logging.DEBUG)"
   ]
  },
  {
   "cell_type": "code",
   "execution_count": 2,
   "metadata": {},
   "outputs": [
    {
     "data": {
      "text/plain": [
       "['__builtins__',\n",
       " '__cached__',\n",
       " '__doc__',\n",
       " '__file__',\n",
       " '__loader__',\n",
       " '__name__',\n",
       " '__package__',\n",
       " '__spec__',\n",
       " '_addIfPrime',\n",
       " 'factor',\n",
       " 'findSomePrimes',\n",
       " 'log',\n",
       " 'logging',\n",
       " 'math',\n",
       " 'smallestCommonMultiple',\n",
       " 'sys']"
      ]
     },
     "execution_count": 2,
     "metadata": {},
     "output_type": "execute_result"
    }
   ],
   "source": [
    "dir(pt)"
   ]
  },
  {
   "cell_type": "code",
   "execution_count": 3,
   "metadata": {},
   "outputs": [
    {
     "name": "stdout",
     "output_type": "stream",
     "text": [
      "Help on function factor in module primetools:\n",
      "\n",
      "factor(num)\n",
      "    Return the prime factorization of a number in the form of a map between the prime key and the number of those primes in the prime factorization\n",
      "\n",
      "Help on function findSomePrimes in module primetools:\n",
      "\n",
      "findSomePrimes(limit=0, number=0)\n",
      "    Method that returns a map where each key is a prime number. The value of the map will be \n",
      "    initialized to 0. This is for counting prime factors of some other number.\n",
      "\n",
      "Help on function smallestCommonMultiple in module primetools:\n",
      "\n",
      "smallestCommonMultiple(num)\n",
      "    Find the smallest number that is divisible by every number from one to num. It does this by     finding all the prime factorizations     of each number and making sure the final map has     exactly as many of each prime factor as the greatest number of any number up to num.\n",
      "\n"
     ]
    }
   ],
   "source": [
    "help(pt.factor)\n",
    "help(pt.findSomePrimes)\n",
    "help(pt.smallestCommonMultiple)"
   ]
  },
  {
   "cell_type": "code",
   "execution_count": 4,
   "metadata": {},
   "outputs": [
    {
     "data": {
      "text/plain": [
       "148933"
      ]
     },
     "execution_count": 4,
     "metadata": {},
     "output_type": "execute_result"
    }
   ],
   "source": [
    "# pt.log.setLevel(logging.DEBUG)\n",
    "below2M=pt.findSomePrimes(limit=2000000)\n",
    "len(below2M)"
   ]
  },
  {
   "cell_type": "code",
   "execution_count": 5,
   "metadata": {},
   "outputs": [
    {
     "name": "stdout",
     "output_type": "stream",
     "text": [
      "Sum of primes below 2M: 142913828922\n",
      "Highest prime: 1999993\n"
     ]
    }
   ],
   "source": [
    "sumofprimes=reduce(lambda x,y:x+y, below2M.keys())\n",
    "\n",
    "print(f\"Sum of primes below 2M: {sumofprimes}\")\n",
    "print(f\"Highest prime: {max(below2M.keys())}\")"
   ]
  }
 ],
 "metadata": {
  "kernelspec": {
   "display_name": "Python 3",
   "language": "python",
   "name": "python3"
  },
  "language_info": {
   "codemirror_mode": {
    "name": "ipython",
    "version": 3
   },
   "file_extension": ".py",
   "mimetype": "text/x-python",
   "name": "python",
   "nbconvert_exporter": "python",
   "pygments_lexer": "ipython3",
   "version": "3.6.5"
  }
 },
 "nbformat": 4,
 "nbformat_minor": 2
}
