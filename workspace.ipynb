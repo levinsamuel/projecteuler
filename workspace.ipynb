{
 "cells": [
  {
   "cell_type": "markdown",
   "metadata": {},
   "source": [
    "# Workspace for Project Euler problems\n",
    "\n",
    "## Problem 9\n",
    "\n",
    "A Pythagorean triplet is a set of three natural numbers, $a < b < c$, for which,\n",
    "\n",
    "$$a^2 + b^2 = c^2$$\n",
    "\n",
    "For example, $3^2 + 4^2 = 9 + 16 = 25 = 5^2$.\n",
    "\n",
    "There exists exactly one Pythagorean triplet for which $a + b + c = 1000$.\n",
    "Find the product $abc$."
   ]
  },
  {
   "cell_type": "code",
   "execution_count": 54,
   "metadata": {},
   "outputs": [],
   "source": [
    "import primetools as pt\n",
    "import numbers, math\n",
    "import tools.misc as misc\n",
    "import logging, sys\n",
    "from functools import reduce\n",
    "\n",
    "logging.basicConfig(stream=sys.stderr, level=logging.INFO)\n",
    "\n",
    "log = logging.getLogger(\"main\")\n",
    "\n",
    "# DEBUG, INFO, WARNING, ERROR, CRITICAL\n",
    "log.setLevel(logging.DEBUG)"
   ]
  },
  {
   "cell_type": "markdown",
   "metadata": {},
   "source": [
    "### Some random substitution just looking for stuff\n",
    "\n",
    "1.1: $a + b + c = 1000$\n",
    "\n",
    "1.2: $c = 1000 - a - b$\n",
    "\n",
    "2: $a^2 + b^2 = c^2$\n",
    "\n",
    "3, 1.1 squared:\n",
    "$a^2 + 2ab + b^2 + 2bc + c^2 + 2ac = 1000000$\n",
    "\n",
    "4, Substitute 2: $2a^2 + 2ab + 2b^2 + c(2b + 2a) = 1000000$\n",
    "\n",
    "5, Substitute 1.2: $2a^2 + 2ab + 2b^2 + (1000 - a - b)(2b + 2a) = 1000000$\n",
    "\n",
    "6: $(1000 - a - b)(2b + 2a) = 2000b + 2000a - 4ab - 2a^2 - 2b^2$\n",
    "\n",
    "7: $-4ab - 2a^2 - 2b^2 = -2(2ab + a^2 + b^2) = -2(a + b)^2$\n",
    "\n",
    "8, Substitute 6: $-2ab + 2000a + 2000b = 1000000$\n",
    "\n",
    "9: $a^2 + b^2 = (a + b)^2 - 2ab$\n",
    "\n",
    "10: $c^2 = (1000 - c)^2 - 2ab$\n",
    "\n",
    "11: $(1000 - c)^2 = 1000000 - 2000c + c^2$\n",
    "\n",
    "12: $2000c + 2ab = 1000000$"
   ]
  },
  {
   "cell_type": "markdown",
   "metadata": {},
   "source": [
    "### Ok what did we learn\n",
    "\n",
    "From [8], we know that $-2ab$ must be a multiple of 1000, since the other terms in the equation are, so $ab$ must be a multiple of 500 between them."
   ]
  },
  {
   "cell_type": "markdown",
   "metadata": {},
   "source": [
    "### Not sure about this\n",
    "\n",
    "Instead I'll just start with the fact that\n",
    "\n",
    "$$(2x, x^2-1, x^2+1)$$\n",
    "\n",
    "for any $x$ is a pythagorean triplet, and just search those for sets that sum to 1000. We'll see if that works first.\n",
    "\n",
    "The sum of those three is, easily enough:\n",
    "\n",
    "$$2x + 2x^2$$"
   ]
  },
  {
   "cell_type": "code",
   "execution_count": 66,
   "metadata": {},
   "outputs": [
    {
     "name": "stdout",
     "output_type": "stream",
     "text": [
      "Sum: 40, x:4\n",
      "found it\n",
      "Solution: {'a': 200.0, 'b': 375.0, 'c': 425.0}\n"
     ]
    }
   ],
   "source": [
    "# Another way would be to find the one that is a factor of 1000\n",
    "# random value that will satisfy loop\n",
    "summ=3\n",
    "x=1\n",
    "while summ < 1000 and 1000 % summ is not 0:\n",
    "    x+=1\n",
    "    summ = 2*x + 2*(x**2)\n",
    "    \n",
    "print (f\"Sum: {summ}, x:{x}\")\n",
    "if summ <= 1000:\n",
    "    print (\"found it\")\n",
    "    multiplier=1000/summ\n",
    "    ret = {'a':2*x*multiplier, 'b':multiplier*(x**2-1),\n",
    "          'c':multiplier*(x**2+1)}\n",
    "    print (f\"Solution: {ret}\")"
   ]
  },
  {
   "cell_type": "markdown",
   "metadata": {},
   "source": [
    "So I guess it didn't."
   ]
  },
  {
   "cell_type": "markdown",
   "metadata": {},
   "source": [
    "### I'll try to put $a$ in terms of $c$ and then while trying different values of $c$ we can then solve for $a$ and $b$\n",
    "\n",
    "$$b = 1000 - c - a$$\n",
    "\n",
    "$$a^2 + (1000 - a - c)^2 = c^2$$\n",
    "\n",
    "$$a^2 + 1000000 - 2000a - 2000c + 2ac + a^2 + c^2 = c^2$$\n",
    "\n",
    "$$2a^2 + 1000000 - 2000a - 2000c + 2ac = 0$$\n",
    "\n",
    "$$2a^2 + 1000000 - 2000a - c(2000 - 2a) = 0$$\n",
    "\n",
    "$$c = \\frac{a^2 - 1000a + 500000}{1000 - a}$$"
   ]
  },
  {
   "cell_type": "code",
   "execution_count": 48,
   "metadata": {},
   "outputs": [
    {
     "data": {
      "text/plain": [
       "425.0"
      ]
     },
     "execution_count": 48,
     "metadata": {},
     "output_type": "execute_result"
    }
   ],
   "source": [
    "cfroma = lambda a: ((a**2) - (1000*a) + 500000)/(1000 - a)\n",
    "cfroma(200)"
   ]
  },
  {
   "cell_type": "code",
   "execution_count": 53,
   "metadata": {},
   "outputs": [
    {
     "name": "stdout",
     "output_type": "stream",
     "text": [
      "{200: 425.0}\n",
      "b: 375.0, a sq plus b sq: 180625.0, c sq: 180625.0\n",
      "{'a': 200, 'b': 375.0, 'c': 425.0}\n"
     ]
    }
   ],
   "source": [
    "log.setLevel(logging.INFO)\n",
    "pc = {}\n",
    "for a in range(333, 1, -1):\n",
    "    # possible values of c \n",
    "    c = cfroma(a)\n",
    "    log.debug(\"trying a: %d. c is %f\", a, c)\n",
    "    if c.is_integer():\n",
    "        pc[a] = c\n",
    "        \n",
    "print (pc)\n",
    "\n",
    "if len(pc) is not 1:\n",
    "    raise Exception(\"There should be only one pythagorean triple\")\n",
    "\n",
    "for a,c in pc.items():\n",
    "    b = 1000 - a - c\n",
    "    ret = {'a':a, 'b':b, 'c':c}\n",
    "    print(f\"b: {b}, a sq plus b sq: {a**2 + b**2}, c sq: {c**2}\")\n",
    "\n",
    "print (ret)"
   ]
  },
  {
   "cell_type": "code",
   "execution_count": 57,
   "metadata": {},
   "outputs": [
    {
     "name": "stdout",
     "output_type": "stream",
     "text": [
      "Product is: 31875000.0\n"
     ]
    }
   ],
   "source": [
    "prod= reduce(lambda x,y:x*y, ret.values())\n",
    "\n",
    "print (f\"Product is: {prod}\")"
   ]
  }
 ],
 "metadata": {
  "kernelspec": {
   "display_name": "Python 3",
   "language": "python",
   "name": "python3"
  },
  "language_info": {
   "codemirror_mode": {
    "name": "ipython",
    "version": 3
   },
   "file_extension": ".py",
   "mimetype": "text/x-python",
   "name": "python",
   "nbconvert_exporter": "python",
   "pygments_lexer": "ipython3",
   "version": "3.6.5"
  }
 },
 "nbformat": 4,
 "nbformat_minor": 2
}
