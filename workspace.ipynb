{
 "cells": [
  {
   "cell_type": "markdown",
   "metadata": {},
   "source": [
    "# Workspace for Project Euler problems\n",
    "\n",
    "## Problem 8\n",
    "\n",
    "The four adjacent digits in the 1000-digit number that have the greatest product are $9 × 9 × 8 × 9 = 5832$.\n",
    "\n",
    "`73167176531330624919225119674426574742355349194934\n",
    "96983520312774506326239578318016984801869478851843\n",
    "85861560789112949495459501737958331952853208805511\n",
    "12540698747158523863050715693290963295227443043557\n",
    "66896648950445244523161731856403098711121722383113\n",
    "62229893423380308135336276614282806444486645238749\n",
    "30358907296290491560440772390713810515859307960866\n",
    "70172427121883998797908792274921901699720888093776\n",
    "65727333001053367881220235421809751254540594752243\n",
    "52584907711670556013604839586446706324415722155397\n",
    "53697817977846174064955149290862569321978468622482\n",
    "83972241375657056057490261407972968652414535100474\n",
    "82166370484403199890008895243450658541227588666881\n",
    "16427171479924442928230863465674813919123162824586\n",
    "17866458359124566529476545682848912883142607690042\n",
    "24219022671055626321111109370544217506941658960408\n",
    "07198403850962455444362981230987879927244284909188\n",
    "84580156166097919133875499200524063689912560717606\n",
    "05886116467109405077541002256983155200055935729725\n",
    "71636269561882670428252483600823257530420752963450\n",
    "`\n",
    "\n",
    "Find the thirteen adjacent digits in the 1000-digit number that have the greatest product. What is the value of this product?"
   ]
  },
  {
   "cell_type": "code",
   "execution_count": 1,
   "metadata": {},
   "outputs": [],
   "source": [
    "import primetools as pt\n",
    "import numbers\n",
    "import tools.misc as misc"
   ]
  },
  {
   "cell_type": "code",
   "execution_count": 2,
   "metadata": {},
   "outputs": [],
   "source": [
    "numbertext='''\n",
    "73167176531330624919225119674426574742355349194934\n",
    "96983520312774506326239578318016984801869478851843\n",
    "85861560789112949495459501737958331952853208805511\n",
    "12540698747158523863050715693290963295227443043557\n",
    "66896648950445244523161731856403098711121722383113\n",
    "62229893423380308135336276614282806444486645238749\n",
    "30358907296290491560440772390713810515859307960866\n",
    "70172427121883998797908792274921901699720888093776\n",
    "65727333001053367881220235421809751254540594752243\n",
    "52584907711670556013604839586446706324415722155397\n",
    "53697817977846174064955149290862569321978468622482\n",
    "83972241375657056057490261407972968652414535100474\n",
    "82166370484403199890008895243450658541227588666881\n",
    "16427171479924442928230863465674813919123162824586\n",
    "17866458359124566529476545682848912883142607690042\n",
    "24219022671055626321111109370544217506941658960408\n",
    "07198403850962455444362981230987879927244284909188\n",
    "84580156166097919133875499200524063689912560717606\n",
    "05886116467109405077541002256983155200055935729725\n",
    "71636269561882670428252483600823257530420752963450'''"
   ]
  },
  {
   "cell_type": "code",
   "execution_count": 3,
   "metadata": {},
   "outputs": [
    {
     "name": "stdout",
     "output_type": "stream",
     "text": [
      "Help on method_descriptor:\n",
      "\n",
      "replace(...)\n",
      "    S.replace(old, new[, count]) -> str\n",
      "    \n",
      "    Return a copy of S with all occurrences of substring\n",
      "    old replaced by new.  If the optional argument count is\n",
      "    given, only the first count occurrences are replaced.\n",
      "\n",
      "<class 'str'>\n",
      "7\n",
      "[3, 1, 6]\n",
      "[4, 5]\n",
      "type of first item is: <class 'int'>\n",
      "<class 'generator'>\n",
      "1000\n"
     ]
    }
   ],
   "source": [
    "help(str.replace)\n",
    "numbertext=numbertext.replace('\\n', '')\n",
    "\n",
    "#nl=list(numbertext)\n",
    "nl = [int(x) for x in numbertext]\n",
    "\n",
    "print (type(numbertext))\n",
    "\n",
    "print (nl[0])\n",
    "print (nl[1:4])\n",
    "l=[1,2,3,4,5]\n",
    "print (l[3:])\n",
    "print (f\"type of first item is: {type(nl[0])}\")\n",
    "g=(x for x in numbertext)\n",
    "print(type(g))\n",
    "print(len(numbertext))"
   ]
  },
  {
   "cell_type": "markdown",
   "metadata": {},
   "source": [
    "## Approach\n",
    "\n",
    "So obviously we should ignore any sequence that contains a 0. Need to factor in that logic"
   ]
  },
  {
   "cell_type": "code",
   "execution_count": 4,
   "metadata": {},
   "outputs": [],
   "source": [
    "ans, idx, seq = misc.highestConsecutiveProduct(numbertext, 13)"
   ]
  },
  {
   "cell_type": "code",
   "execution_count": 5,
   "metadata": {},
   "outputs": [
    {
     "name": "stdout",
     "output_type": "stream",
     "text": [
      "Help on function highestConsecutiveProduct in module tools.misc:\n",
      "\n",
      "highestConsecutiveProduct(numlist, conseclength=4)\n",
      "    Find the highest product of consecutive digits in a list.\n",
      "    \n",
      "    RETURNS:\n",
      "        pos 0: the product\n",
      "        pos 1: the beginning index of the number sequence\n",
      "        pos 2: the subsequence itself\n",
      "\n"
     ]
    }
   ],
   "source": [
    "help(misc.highestConsecutiveProduct)"
   ]
  },
  {
   "cell_type": "code",
   "execution_count": 6,
   "metadata": {},
   "outputs": [
    {
     "name": "stdout",
     "output_type": "stream",
     "text": [
      "The answer is 23514624000. The index of occurrence is 197. And the sequence is [5, 5, 7, 6, 6, 8, 9, 6, 6, 4, 8, 9, 5]. Concatenated, it is 5576689664895.\n"
     ]
    }
   ],
   "source": [
    "print(f\"The answer is {ans}. The index of occurrence is {idx}. \\\n",
    "And the sequence is {seq}. Concatenated, it is \\\n",
    "{''.join(str(i) for i in seq)}.\")"
   ]
  }
 ],
 "metadata": {
  "kernelspec": {
   "display_name": "Python 3",
   "language": "python",
   "name": "python3"
  },
  "language_info": {
   "codemirror_mode": {
    "name": "ipython",
    "version": 3
   },
   "file_extension": ".py",
   "mimetype": "text/x-python",
   "name": "python",
   "nbconvert_exporter": "python",
   "pygments_lexer": "ipython3",
   "version": "3.6.5"
  }
 },
 "nbformat": 4,
 "nbformat_minor": 2
}
