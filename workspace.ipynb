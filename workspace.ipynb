{
 "cells": [
  {
   "cell_type": "markdown",
   "metadata": {},
   "source": [
    "# Workspace for Project Euler problems\n",
    "\n",
    "## Problem 4\n",
    "\n",
    "A palindromic number reads the same both ways. The largest palindrome made from the product of two 2-digit numbers is 9009 = 91 × 99.\n",
    "\n",
    "Find the largest palindrome made from the product of two 3-digit numbers."
   ]
  },
  {
   "cell_type": "code",
   "execution_count": 1,
   "metadata": {},
   "outputs": [
    {
     "data": {
      "text/plain": [
       "998001"
      ]
     },
     "execution_count": 1,
     "metadata": {},
     "output_type": "execute_result"
    }
   ],
   "source": [
    "999*999"
   ]
  },
  {
   "cell_type": "code",
   "execution_count": 2,
   "metadata": {},
   "outputs": [],
   "source": [
    "import logging, sys\n",
    "logging.basicConfig(stream=sys.stderr, level=logging.INFO)\n",
    "log = logging.getLogger(\"main\")\n",
    "log.setLevel(logging.INFO)"
   ]
  },
  {
   "cell_type": "code",
   "execution_count": 3,
   "metadata": {},
   "outputs": [],
   "source": [
    "def isPalindrome(num):\n",
    "    \"Check if input parameter is a palindrome.\"\n",
    "    log.debug(\"Num: {0}\".format(num))\n",
    "    digits=[]\n",
    "    while num > 0:\n",
    "        digits.append(num%10)\n",
    "        num=num//10\n",
    "    log.debug(\"digits: {0}\".format(digits))\n",
    "    while len(digits) > 1:\n",
    "        st=digits.pop()\n",
    "        en=digits.pop(0)\n",
    "        if st != en:\n",
    "            return False\n",
    "    return True"
   ]
  },
  {
   "cell_type": "code",
   "execution_count": 4,
   "metadata": {},
   "outputs": [
    {
     "data": {
      "text/plain": [
       "False"
      ]
     },
     "execution_count": 4,
     "metadata": {},
     "output_type": "execute_result"
    }
   ],
   "source": [
    "isPalindrome(15)"
   ]
  },
  {
   "cell_type": "code",
   "execution_count": 5,
   "metadata": {},
   "outputs": [
    {
     "data": {
      "text/plain": [
       "True"
      ]
     },
     "execution_count": 5,
     "metadata": {},
     "output_type": "execute_result"
    }
   ],
   "source": [
    "isPalindrome(151)"
   ]
  },
  {
   "cell_type": "code",
   "execution_count": 6,
   "metadata": {},
   "outputs": [
    {
     "data": {
      "text/plain": [
       "[5, 4, 3, 2]"
      ]
     },
     "execution_count": 6,
     "metadata": {},
     "output_type": "execute_result"
    }
   ],
   "source": [
    "list(range(5,1, -1))"
   ]
  },
  {
   "cell_type": "markdown",
   "metadata": {},
   "source": [
    "### Observation 1\n",
    "\n",
    "The largest such number will likely begin with a 9, which means it will end with a 9. Also the product of the two largest 3-digit numbers above is 998001, six digits, so the final number will probably be six digits. If we assume that the largest palindrome will start with a 9, then we only have to check three-digit number pairs that end with the digits [1,9], [3,3] or [7,7], since any other combination will produce a product with a last digit other than 9. Then, if it turns out there are no such palindromes beginning with 9, we can do the same with 8, which is the pairs [2,4], [8.1], [8,6], [3,6], [4,7], [2,9]. Etc. However that may be complicated to implement and may ultiple save no time."
   ]
  },
  {
   "cell_type": "code",
   "execution_count": 7,
   "metadata": {},
   "outputs": [],
   "source": [
    "def checkPalindromes(maxN):\n",
    "    highestP=0\n",
    "    factors=[]\n",
    "    for num1 in range(maxN, 0, -1):\n",
    "        if num1**2 < highestP:\n",
    "            log.info(\"the next number {} is less than the root of \\\n",
    "            the highest palindrome {}, returning\".format(\n",
    "                     num1, highestP))\n",
    "            break\n",
    "        for num2 in range(num1, 0, -1):\n",
    "            prod=num1*num2\n",
    "            if highestP >= prod:\n",
    "                break\n",
    "            elif isPalindrome(prod):\n",
    "                highestP=prod\n",
    "                factors=[num1, num2]\n",
    "                break\n",
    "    factors.append(highestP)\n",
    "    return factors"
   ]
  },
  {
   "cell_type": "code",
   "execution_count": 8,
   "metadata": {},
   "outputs": [
    {
     "name": "stderr",
     "output_type": "stream",
     "text": [
      "INFO:main:the next number 952 is less than the root of             the highest palindrome 906609, returning\n"
     ]
    },
    {
     "data": {
      "text/plain": [
       "[993, 913, 906609]"
      ]
     },
     "execution_count": 8,
     "metadata": {},
     "output_type": "execute_result"
    }
   ],
   "source": [
    "checkPalindromes(999)"
   ]
  },
  {
   "cell_type": "code",
   "execution_count": null,
   "metadata": {},
   "outputs": [],
   "source": []
  }
 ],
 "metadata": {
  "kernelspec": {
   "display_name": "Python 3",
   "language": "python",
   "name": "python3"
  },
  "language_info": {
   "codemirror_mode": {
    "name": "ipython",
    "version": 3
   },
   "file_extension": ".py",
   "mimetype": "text/x-python",
   "name": "python",
   "nbconvert_exporter": "python",
   "pygments_lexer": "ipython3",
   "version": "3.6.5"
  }
 },
 "nbformat": 4,
 "nbformat_minor": 2
}
