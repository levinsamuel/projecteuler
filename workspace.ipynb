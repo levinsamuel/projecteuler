{
 "cells": [
  {
   "cell_type": "markdown",
   "metadata": {},
   "source": [
    "# Workspace for Project Euler problems\n",
    "\n",
    "## Problem 3\n",
    "\n",
    "The prime factors of 13195 are 5, 7, 13 and 29.\n",
    "\n",
    "What is the largest prime factor of the number 600851475143?"
   ]
  },
  {
   "cell_type": "markdown",
   "metadata": {},
   "source": [
    "### Approach\n",
    "\n",
    "If I'm not mistaken, there isn't a good algorithm to efficiently factor numbers. Maybe there are ways to parallelize and take advantage of different hardware, but not to avoid the basic method of checking.\n",
    "\n",
    "It would be helpful to have a list of prime numbers here, rather than having to figure out which numbers are prime.\n",
    "\n",
    "One thing we can do is, if this number has any prime factors larger than its square root, it will have at most one, since the product of two factors larger than its square root will be larger than the number itself. So we can check only factors up to its square root and we'll either find the largest one that way or whatever number is left will be its largest factor."
   ]
  },
  {
   "cell_type": "code",
   "execution_count": 34,
   "metadata": {},
   "outputs": [],
   "source": [
    "import math\n",
    "import logging, sys\n",
    "logging.basicConfig(stream=sys.stderr, level=logging.INFO)\n",
    "\n",
    "log = logging.getLogger(\"main\")\n",
    "\n",
    "# DEBUG, INFO, WARNING, ERROR, CRITICAL\n",
    "log.setLevel(logging.DEBUG)\n",
    "\n",
    "ournum=600851475143"
   ]
  },
  {
   "cell_type": "code",
   "execution_count": 35,
   "metadata": {},
   "outputs": [
    {
     "name": "stderr",
     "output_type": "stream",
     "text": [
      "DEBUG:main:f=8462696833.0 is integer. i=71 divides it\n",
      "DEBUG:main:f=10086647.0 is integer. i=839 divides it\n",
      "DEBUG:main:f=6857.0 is integer. i=1471 divides it\n",
      "DEBUG:main:f=1.0 is integer. i=6857 divides it\n"
     ]
    }
   ],
   "source": [
    "\n",
    "factored=ournum\n",
    "\n",
    "oursqrt=math.ceil(math.sqrt(ournum))\n",
    "oursqrt\n",
    "\n",
    "largestprime=1\n",
    "primes=[]\n",
    "for i in range(2, oursqrt):\n",
    "    f=factored/i\n",
    "    while f.is_integer():\n",
    "        log.debug('f={0} is integer. i={1} divides it'.format(f,i))\n",
    "        factored=f\n",
    "        largestprime=i\n",
    "        primes.append(i)\n",
    "        f=factored/i\n",
    "\n"
   ]
  },
  {
   "cell_type": "code",
   "execution_count": 36,
   "metadata": {},
   "outputs": [
    {
     "data": {
      "text/plain": [
       "[71, 839, 1471, 6857]"
      ]
     },
     "execution_count": 36,
     "metadata": {},
     "output_type": "execute_result"
    }
   ],
   "source": [
    "primes"
   ]
  },
  {
   "cell_type": "code",
   "execution_count": 43,
   "metadata": {},
   "outputs": [
    {
     "name": "stderr",
     "output_type": "stream",
     "text": [
      "DEBUG:main:factored is 1\n"
     ]
    },
    {
     "name": "stdout",
     "output_type": "stream",
     "text": [
      "largest prime:  6857\n"
     ]
    }
   ],
   "source": [
    "if factored == 1:\n",
    "    # largest prime is already assigned\n",
    "    log.debug('factored is 1')\n",
    "else:\n",
    "    largestprime=factored;\n",
    "\n",
    "print ('largest prime: ', largestprime)"
   ]
  }
 ],
 "metadata": {
  "kernelspec": {
   "display_name": "Python 3",
   "language": "python",
   "name": "python3"
  },
  "language_info": {
   "codemirror_mode": {
    "name": "ipython",
    "version": 3
   },
   "file_extension": ".py",
   "mimetype": "text/x-python",
   "name": "python",
   "nbconvert_exporter": "python",
   "pygments_lexer": "ipython3",
   "version": "3.6.5"
  }
 },
 "nbformat": 4,
 "nbformat_minor": 2
}
