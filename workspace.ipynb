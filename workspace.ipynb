{
 "cells": [
  {
   "cell_type": "markdown",
   "metadata": {},
   "source": [
    "# Workspace for Project Euler problems\n",
    "\n",
    "## Problem 15\n",
    "\n",
    "Starting in the top left corner of a 2×2 grid, and only being able to move to the right and down, there are exactly 6 routes to the bottom right corner.\n",
    "\n",
    "![paths](p015.gif)\n",
    "\n",
    "How many such routes are there through a 20×20 grid?"
   ]
  },
  {
   "cell_type": "code",
   "execution_count": 1,
   "metadata": {},
   "outputs": [],
   "source": [
    "import tools.primetools as pt\n",
    "import numbers, math\n",
    "import tools.misc as misc\n",
    "import logging, sys, time\n",
    "from functools import reduce\n",
    "\n",
    "logging.basicConfig(stream=sys.stdout, level=logging.INFO)\n",
    "\n",
    "log = logging.getLogger(\"main\")\n",
    "\n",
    "# DEBUG, INFO, WARNING, ERROR, CRITICAL\n",
    "log.setLevel(logging.INFO)"
   ]
  },
  {
   "cell_type": "markdown",
   "metadata": {},
   "source": [
    "### Observation 1\n",
    "\n",
    "As the grid gets bigger, and the line moves down the grid, you can think of it as a step-wise progression to smaller and smaller grids, at which point the number of paths becomes the number of paths through that smaller grid. So if you are on a 4x4, and you travel down to a 2x2, then the number of paths from there is six, as solved above. So perhaps this problem can be solved by simply finding how many additional paths are added for each dimension added."
   ]
  },
  {
   "cell_type": "markdown",
   "metadata": {},
   "source": [
    "### Observation 2\n",
    "\n",
    "For each path, given a NxM grid size, to get to the end, the mouse (I'm calling it a mouse, like a mouse going though a maze ok, just deal with it) will always have to go exactly N steps down and M steps right. The path is simply the order in which it takes those steps.\n",
    "\n",
    "For 2x2 then, the problem is you have four steps to make, $DD$ and $RR$ (for two down, two right), and the problem is essentially how to order those things. So you have:\n",
    "\n",
    "$$[DDRR, DRDR, RDDR, RRDD, DRRD, RDRD]$$\n",
    "\n",
    "Six. If I remember anything from combinatorics, it's that you can think of this kind of problem in a particular way, in two steps. First, recognize that you are doing an ordering task with a fixed number of elements, choosing each element for each ordering, which is a permutation. For this purpose, consider each element to be unique, so call the first down move $D_1$, the second $D_2$, and the same for the right moves. Then find the permutation. So for the 2x2 case, you would find all the combinations, but you would accidentally find too many. For instance, these paths would be considered different:\n",
    "\n",
    "$$D_1D_2R_1R_2, D_2D_1R_1R_2$$\n",
    "\n",
    "But in fact the paths are the same, because all down moves are the same. Perhaps they differ with regard to where you are on the board, but in such a case they are still distinguished only by where they occur in the sequence, not by any intrinsic quality.\n",
    "\n",
    "So the second task is to take the paths we found above and correct for the duplicates that we found by treating all down moves and right moves as fungible. And this is easy to do. For any given path, it will show up as many times in the set as there are ways to arrange the down moves among themselves in that sequence, which is just the permutation of all down moves. And the same goes for right moves. So all we have to do is divide the total permutations by the number of permutations of just down moves and just right moves. Our solution is expressed by this equation, where $N$ is the number of path, $r$ is the number of rows, and $c$ is the number of columns in the square:\n",
    "\n",
    "$$N = \\frac{_{r+c} P_{r+c}}{_{r} P_{r} \\cdot _{c} P_{c}}$$\n",
    "\n",
    "And of course, a permutation using all available choices is just the factorial, so it's really\n",
    "\n",
    "$$ \\frac{(r+c)!}{r!c!}$$"
   ]
  },
  {
   "cell_type": "code",
   "execution_count": 4,
   "metadata": {},
   "outputs": [],
   "source": [
    "def number_of_paths(rows, columns):\n",
    "    return int(math.factorial(rows + columns)/(math.factorial(rows)*math.factorial(columns)))"
   ]
  },
  {
   "cell_type": "code",
   "execution_count": 5,
   "metadata": {},
   "outputs": [
    {
     "data": {
      "text/plain": [
       "6"
      ]
     },
     "execution_count": 5,
     "metadata": {},
     "output_type": "execute_result"
    }
   ],
   "source": [
    "number_of_paths(2, 2)"
   ]
  },
  {
   "cell_type": "code",
   "execution_count": 7,
   "metadata": {},
   "outputs": [
    {
     "name": "stdout",
     "output_type": "stream",
     "text": [
      "Number of paths through 20x20 grid: 137846528820\n"
     ]
    }
   ],
   "source": [
    "print(\"Number of paths through 20x20 grid: {}\".format(number_of_paths(20,20)))"
   ]
  },
  {
   "cell_type": "code",
   "execution_count": null,
   "metadata": {},
   "outputs": [],
   "source": []
  }
 ],
 "metadata": {
  "kernelspec": {
   "display_name": "Python 3",
   "language": "python",
   "name": "python3"
  },
  "language_info": {
   "codemirror_mode": {
    "name": "ipython",
    "version": 3
   },
   "file_extension": ".py",
   "mimetype": "text/x-python",
   "name": "python",
   "nbconvert_exporter": "python",
   "pygments_lexer": "ipython3",
   "version": "3.6.5"
  }
 },
 "nbformat": 4,
 "nbformat_minor": 2
}
