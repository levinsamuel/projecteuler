{
 "cells": [
  {
   "cell_type": "markdown",
   "metadata": {},
   "source": [
    "# Workspace for Project Euler problems\n",
    "\n",
    "## Problem 14\n",
    "\n",
    "The following iterative sequence is defined for the set of positive integers:\n",
    "\n",
    "$$n \\to \\frac{n}{2} \\text{ ($n$ is even)}$$\n",
    "$$n \\to 3n + 1 \\text{ ($n$ is odd)}$$\n",
    "\n",
    "\n",
    "Using the rule above and starting with 13, we generate the following sequence:\n",
    "\n",
    "$$13 \\to 40 \\to 20 \\to 10 \\to 5 \\to 16 \\to 8 \\to 4 \\to 2 \\to 1$$\n",
    "\n",
    "It can be seen that this sequence (starting at 13 and finishing at 1) contains 10 terms. Although it has not been proved yet (Collatz Problem), it is thought that all starting numbers finish at 1.\n",
    "\n",
    "Which starting number, under one million, produces the longest chain?\n",
    "\n",
    "NOTE: Once the chain starts the terms are allowed to go above one million."
   ]
  },
  {
   "cell_type": "code",
   "execution_count": 1,
   "metadata": {},
   "outputs": [],
   "source": [
    "import tools.primetools as pt\n",
    "import numbers, math\n",
    "import tools.misc as misc\n",
    "import logging, sys, time\n",
    "from functools import reduce\n",
    "\n",
    "logging.basicConfig(stream=sys.stdout, level=logging.INFO)\n",
    "\n",
    "log = logging.getLogger(\"main\")\n",
    "\n",
    "# DEBUG, INFO, WARNING, ERROR, CRITICAL\n",
    "log.setLevel(logging.INFO)"
   ]
  },
  {
   "cell_type": "markdown",
   "metadata": {},
   "source": [
    "## Approach\n",
    "\n",
    "It is clear that, starting at any given number, the sequence is deterministic, meaning the length of the sequence after that number will always be the same length (e.g. 10 long for the number 13). Therefore, for a new number of unknown length, then as soon as a term with known length occurs, we know the length of the full sequence. Additionally, we know the legnth of the sequence for all the unknown terms that occur after it as well (e.g. we know from the above sequence that the length of the sequence for 40 is 9, for 20 is 8, etc.). So hopefully calculating the sequence length for each number is relatively linear to the number of numbers"
   ]
  },
  {
   "cell_type": "code",
   "execution_count": 19,
   "metadata": {},
   "outputs": [
    {
     "name": "stdout",
     "output_type": "stream",
     "text": [
      "{1: 1, 2: 4, 4: 16}\n",
      "4\n",
      "{1: 1, 2: 4, 4: 16, 6: 8, 7: 9, 9: 11}\n"
     ]
    }
   ],
   "source": [
    "a=[1,2,4]\n",
    "y={x:x**2 for x in a}\n",
    "print (y)\n",
    "print (y[2])\n",
    "y.update({x+5:x+7 for x in a})\n",
    "print (y)"
   ]
  },
  {
   "cell_type": "code",
   "execution_count": 46,
   "metadata": {},
   "outputs": [],
   "source": [
    "def find_sequence_lengths(upto):\n",
    "    '''Find all the lengths of all the sequences starting with each number\n",
    "from 1 to \"upto\" parameter. Returns a map from the number to the length of its\n",
    "sequence'''\n",
    "    lengths={1:1}\n",
    "    for start in range(1, upto):\n",
    "        li, i = [], start\n",
    "        while True:\n",
    "            try:\n",
    "                # If no key error thrown, map contains i, break loop\n",
    "                lengths[i]\n",
    "                break\n",
    "            except KeyError:\n",
    "                # map does not contain key, add to list and find next i\n",
    "                li.append(i)\n",
    "                i = int(i/2) if i % 2 == 0 else 3*i + 1\n",
    "        # If there are items in the list, i.e. items not known, add\n",
    "        # them to the map, increasing from the first found existing length\n",
    "        if len(li) > 0:\n",
    "            li.reverse()\n",
    "            lengths.update({li[x]:x+1+lengths[i] for x in range(len(li))})\n",
    "        \n",
    "    return lengths"
   ]
  },
  {
   "cell_type": "code",
   "execution_count": 44,
   "metadata": {},
   "outputs": [],
   "source": [
    "lengths=find_sequence_lengths(1000000)\n"
   ]
  },
  {
   "cell_type": "code",
   "execution_count": 50,
   "metadata": {},
   "outputs": [
    {
     "name": "stdout",
     "output_type": "stream",
     "text": [
      "The longest sequence starts at 837799, and is 525 long.\n",
      "524\n"
     ]
    }
   ],
   "source": [
    "mx, nm = 0, 0\n",
    "for num, lngt in lengths.items():\n",
    "    if lngt > mx and num < 1000000:\n",
    "        mx, nm = lngt, num\n",
    "        \n",
    "print(\"The longest sequence starts at {}, and is {} long.\".format(nm, mx))\n",
    "\n",
    "n=837799\n",
    "for i in range(1, 1000000):\n",
    "    n = n//2 if n % 2 == 0 else 3*n+1\n",
    "    if n == 1:\n",
    "        break\n",
    "print(i)"
   ]
  },
  {
   "cell_type": "code",
   "execution_count": null,
   "metadata": {},
   "outputs": [],
   "source": []
  }
 ],
 "metadata": {
  "kernelspec": {
   "display_name": "Python 3",
   "language": "python",
   "name": "python3"
  },
  "language_info": {
   "codemirror_mode": {
    "name": "ipython",
    "version": 3
   },
   "file_extension": ".py",
   "mimetype": "text/x-python",
   "name": "python",
   "nbconvert_exporter": "python",
   "pygments_lexer": "ipython3",
   "version": "3.6.5"
  }
 },
 "nbformat": 4,
 "nbformat_minor": 2
}
