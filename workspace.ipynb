{
 "cells": [
  {
   "cell_type": "markdown",
   "metadata": {},
   "source": [
    "# Workspace for Project Euler problems\n",
    "\n",
    "## Problem 49"
   ]
  },
  {
   "cell_type": "code",
   "execution_count": 1,
   "metadata": {},
   "outputs": [],
   "source": [
    "import tools.primetools as pt\n",
    "import numbers, math\n",
    "import tools.misc as misc\n",
    "import logging, sys, time\n",
    "from functools import reduce\n",
    "\n",
    "logging.basicConfig(stream=sys.stdout, level=logging.INFO)\n",
    "\n",
    "log = logging.getLogger(\"main\")\n",
    "\n",
    "# DEBUG, INFO, WARNING, ERROR, CRITICAL\n",
    "log.setLevel(logging.INFO)"
   ]
  },
  {
   "cell_type": "code",
   "execution_count": 2,
   "metadata": {},
   "outputs": [],
   "source": [
    "primes = pt.findSomePrimes(limit=10000)"
   ]
  },
  {
   "cell_type": "code",
   "execution_count": 4,
   "metadata": {},
   "outputs": [],
   "source": [
    "ps = set(p for p in primes if p > 1000)"
   ]
  },
  {
   "cell_type": "code",
   "execution_count": 10,
   "metadata": {},
   "outputs": [
    {
     "data": {
      "text/plain": [
       "['1', '2', '3', '4']"
      ]
     },
     "execution_count": 10,
     "metadata": {},
     "output_type": "execute_result"
    }
   ],
   "source": [
    "sorted(\"1324\")"
   ]
  },
  {
   "cell_type": "code",
   "execution_count": 31,
   "metadata": {},
   "outputs": [
    {
     "data": {
      "text/plain": [
       "[(2969, 6299, 9629), (1487, 4817, 8147)]"
      ]
     },
     "execution_count": 31,
     "metadata": {},
     "output_type": "execute_result"
    }
   ],
   "source": [
    "def check(num, number_as_sorted_list):\n",
    "    return num in ps and number_as_sorted_list == sorted(str(num))\n",
    "\n",
    "def find_prime_anagrams():\n",
    "    solutions = []\n",
    "    for p in ps:\n",
    "    #     print(p)   \n",
    "        limit = p + (10000 - p)//2\n",
    "        pl = sorted(str(p))\n",
    "        for next_num in range(p + 18, limit, 18):\n",
    "    #         print(next_num)\n",
    "            if check(next_num, pl):\n",
    "    #             print(\"found a candidate:\", next_num)\n",
    "                last_num = next_num*2 - p\n",
    "                if check(last_num, pl):\n",
    "#                     print(\"winner\", p, next_num, last_num)\n",
    "                    solutions.append((p, next_num, last_num))\n",
    "    #     break\n",
    "    return solutions\n",
    "find_prime_anagrams()"
   ]
  },
  {
   "cell_type": "code",
   "execution_count": 30,
   "metadata": {},
   "outputs": [
    {
     "name": "stdout",
     "output_type": "stream",
     "text": [
      "50.3 ms ± 6.04 ms per loop (mean ± std. dev. of 7 runs, 10 loops each)\n"
     ]
    }
   ],
   "source": [
    "%timeit find_prime_anagrams()"
   ]
  },
  {
   "cell_type": "code",
   "execution_count": 32,
   "metadata": {},
   "outputs": [
    {
     "data": {
      "text/plain": [
       "[(2969, 6299, 9629), (1487, 4817, 8147)]"
      ]
     },
     "execution_count": 32,
     "metadata": {},
     "output_type": "execute_result"
    }
   ],
   "source": [
    "def get_seqs(num):\n",
    "    seqs = []\n",
    "    for i in range(18, 5000, 18):\n",
    "        if num+i*2 > 9999:\n",
    "            break\n",
    "        seqs.append((num, num + i, num + i*2))\n",
    "    return seqs\n",
    "\n",
    "def get_grams_alec_way():\n",
    "    solutions = []\n",
    "    for p in ps:\n",
    "        seqs = get_seqs(p)\n",
    "        for seq in seqs:\n",
    "            if all(p0 in ps for p0 in seq):\n",
    "                if len(set(''.join(sorted(str(p0))) for p0 in seq)) == 1:\n",
    "                    solutions.append(seq)\n",
    "    return solutions\n",
    "get_grams_alec_way()"
   ]
  },
  {
   "cell_type": "code",
   "execution_count": 33,
   "metadata": {},
   "outputs": [
    {
     "name": "stdout",
     "output_type": "stream",
     "text": [
      "250 ms ± 87.6 ms per loop (mean ± std. dev. of 7 runs, 1 loop each)\n"
     ]
    }
   ],
   "source": [
    "%timeit get_grams_alec_way()"
   ]
  }
 ],
 "metadata": {
  "kernelspec": {
   "display_name": "Python 3",
   "language": "python",
   "name": "python3"
  },
  "language_info": {
   "codemirror_mode": {
    "name": "ipython",
    "version": 3
   },
   "file_extension": ".py",
   "mimetype": "text/x-python",
   "name": "python",
   "nbconvert_exporter": "python",
   "pygments_lexer": "ipython3",
   "version": "3.7.3"
  }
 },
 "nbformat": 4,
 "nbformat_minor": 2
}
