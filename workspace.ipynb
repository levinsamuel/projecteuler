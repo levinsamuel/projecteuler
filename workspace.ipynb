{
 "cells": [
  {
   "cell_type": "markdown",
   "metadata": {},
   "source": [
    "# Workspace for Project Euler problems\n",
    "\n",
    "## Problem 6\n",
    "\n",
    "The sum of the squares of the first ten natural numbers is,\n",
    "\n",
    "$$1^2 + 2^2 + ... + 10^2 = 385$$\n",
    "\n",
    "The square of the sum of the first ten natural numbers is,\n",
    "\n",
    "$$(1 + 2 + ... + 10)^2 = 55^2 = 3025$$\n",
    "\n",
    "Hence the difference between the sum of the squares of the first ten natural numbers and the square of the sum is $3025 − 385 = 2640$.\n",
    "\n",
    "Find the difference between the sum of the squares of the first one hundred natural numbers and the square of the sum."
   ]
  },
  {
   "cell_type": "markdown",
   "metadata": {},
   "source": [
    "This one seems pretty easy I guess"
   ]
  },
  {
   "cell_type": "code",
   "execution_count": 2,
   "metadata": {},
   "outputs": [
    {
     "data": {
      "text/plain": [
       "385"
      ]
     },
     "execution_count": 2,
     "metadata": {},
     "output_type": "execute_result"
    }
   ],
   "source": [
    "def sumOfSquares(upto):\n",
    "    \"Sum the squares from 1 up to the parameter value\"\n",
    "    sum=0\n",
    "    for i in range(1, upto+1):\n",
    "        sum+=(i**2)\n",
    "    return sum\n",
    "\n",
    "sumOfSquares(10)"
   ]
  },
  {
   "cell_type": "code",
   "execution_count": 5,
   "metadata": {},
   "outputs": [
    {
     "data": {
      "text/plain": [
       "3025.0"
      ]
     },
     "execution_count": 5,
     "metadata": {},
     "output_type": "execute_result"
    }
   ],
   "source": [
    "def squareOfSums(upto):\n",
    "    \"Square the sum from 1 up to the parameter\"\n",
    "    # The sum of 1 through n is n*(n+1)/2\n",
    "    return (upto*(upto+1)/2)**2\n",
    "\n",
    "squareOfSums(10)"
   ]
  },
  {
   "cell_type": "code",
   "execution_count": 10,
   "metadata": {},
   "outputs": [
    {
     "name": "stdout",
     "output_type": "stream",
     "text": [
      "Sum of squares: 338350\n",
      "Square of sums: 25502500.0\n",
      "Differnce: 25164150.0\n"
     ]
    }
   ],
   "source": [
    "num=100\n",
    "sumosq=sumOfSquares(num)\n",
    "sqofsum=squareOfSums(num)\n",
    "print (\"Sum of squares: {}\".format(sumosq))\n",
    "print (\"Square of sums: {}\".format(sqofsum))\n",
    "# apparently it just wants the difference, not the subtraction\n",
    "print (\"Difference: {}\".format(abs(sumosq-sqofsum)))"
   ]
  }
 ],
 "metadata": {
  "kernelspec": {
   "display_name": "Python 3",
   "language": "python",
   "name": "python3"
  },
  "language_info": {
   "codemirror_mode": {
    "name": "ipython",
    "version": 3
   },
   "file_extension": ".py",
   "mimetype": "text/x-python",
   "name": "python",
   "nbconvert_exporter": "python",
   "pygments_lexer": "ipython3",
   "version": "3.6.5"
  }
 },
 "nbformat": 4,
 "nbformat_minor": 2
}
